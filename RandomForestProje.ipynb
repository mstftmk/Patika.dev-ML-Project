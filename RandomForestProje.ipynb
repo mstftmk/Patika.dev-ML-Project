{
 "cells": [
  {
   "cell_type": "code",
   "execution_count": 1,
   "id": "electronic-determination",
   "metadata": {},
   "outputs": [],
   "source": [
    "import pandas as pd\n",
    "import math\n",
    "import numpy as np\n",
    "\n",
    "from sklearn.ensemble import RandomForestRegressor\n",
    "from sklearn import metrics\n",
    "from IPython.display import display\n",
    "\n",
    "import re\n",
    "from pandas.api.types import is_string_dtype\n",
    "from pandas.api.types import is_numeric_dtype"
   ]
  },
  {
   "cell_type": "code",
   "execution_count": 2,
   "id": "manual-antenna",
   "metadata": {},
   "outputs": [
    {
     "data": {
      "text/html": [
       "<div>\n",
       "<style scoped>\n",
       "    .dataframe tbody tr th:only-of-type {\n",
       "        vertical-align: middle;\n",
       "    }\n",
       "\n",
       "    .dataframe tbody tr th {\n",
       "        vertical-align: top;\n",
       "    }\n",
       "\n",
       "    .dataframe thead th {\n",
       "        text-align: right;\n",
       "    }\n",
       "</style>\n",
       "<table border=\"1\" class=\"dataframe\">\n",
       "  <thead>\n",
       "    <tr style=\"text-align: right;\">\n",
       "      <th></th>\n",
       "      <th>SalesID</th>\n",
       "      <th>SalePrice</th>\n",
       "      <th>MachineID</th>\n",
       "      <th>ModelID</th>\n",
       "      <th>datasource</th>\n",
       "      <th>auctioneerID</th>\n",
       "      <th>YearMade</th>\n",
       "      <th>MachineHoursCurrentMeter</th>\n",
       "      <th>UsageBand</th>\n",
       "      <th>saledate</th>\n",
       "      <th>...</th>\n",
       "      <th>Undercarriage_Pad_Width</th>\n",
       "      <th>Stick_Length</th>\n",
       "      <th>Thumb</th>\n",
       "      <th>Pattern_Changer</th>\n",
       "      <th>Grouser_Type</th>\n",
       "      <th>Backhoe_Mounting</th>\n",
       "      <th>Blade_Type</th>\n",
       "      <th>Travel_Controls</th>\n",
       "      <th>Differential_Type</th>\n",
       "      <th>Steering_Controls</th>\n",
       "    </tr>\n",
       "  </thead>\n",
       "  <tbody>\n",
       "    <tr>\n",
       "      <th>0</th>\n",
       "      <td>1139246</td>\n",
       "      <td>66000</td>\n",
       "      <td>999089</td>\n",
       "      <td>3157</td>\n",
       "      <td>121</td>\n",
       "      <td>3.0</td>\n",
       "      <td>2004</td>\n",
       "      <td>68.0</td>\n",
       "      <td>Low</td>\n",
       "      <td>2006-11-16</td>\n",
       "      <td>...</td>\n",
       "      <td>NaN</td>\n",
       "      <td>NaN</td>\n",
       "      <td>NaN</td>\n",
       "      <td>NaN</td>\n",
       "      <td>NaN</td>\n",
       "      <td>NaN</td>\n",
       "      <td>NaN</td>\n",
       "      <td>NaN</td>\n",
       "      <td>Standard</td>\n",
       "      <td>Conventional</td>\n",
       "    </tr>\n",
       "    <tr>\n",
       "      <th>1</th>\n",
       "      <td>1139248</td>\n",
       "      <td>57000</td>\n",
       "      <td>117657</td>\n",
       "      <td>77</td>\n",
       "      <td>121</td>\n",
       "      <td>3.0</td>\n",
       "      <td>1996</td>\n",
       "      <td>4640.0</td>\n",
       "      <td>Low</td>\n",
       "      <td>2004-03-26</td>\n",
       "      <td>...</td>\n",
       "      <td>NaN</td>\n",
       "      <td>NaN</td>\n",
       "      <td>NaN</td>\n",
       "      <td>NaN</td>\n",
       "      <td>NaN</td>\n",
       "      <td>NaN</td>\n",
       "      <td>NaN</td>\n",
       "      <td>NaN</td>\n",
       "      <td>Standard</td>\n",
       "      <td>Conventional</td>\n",
       "    </tr>\n",
       "    <tr>\n",
       "      <th>2</th>\n",
       "      <td>1139249</td>\n",
       "      <td>10000</td>\n",
       "      <td>434808</td>\n",
       "      <td>7009</td>\n",
       "      <td>121</td>\n",
       "      <td>3.0</td>\n",
       "      <td>2001</td>\n",
       "      <td>2838.0</td>\n",
       "      <td>High</td>\n",
       "      <td>2004-02-26</td>\n",
       "      <td>...</td>\n",
       "      <td>NaN</td>\n",
       "      <td>NaN</td>\n",
       "      <td>NaN</td>\n",
       "      <td>NaN</td>\n",
       "      <td>NaN</td>\n",
       "      <td>NaN</td>\n",
       "      <td>NaN</td>\n",
       "      <td>NaN</td>\n",
       "      <td>NaN</td>\n",
       "      <td>NaN</td>\n",
       "    </tr>\n",
       "    <tr>\n",
       "      <th>3</th>\n",
       "      <td>1139251</td>\n",
       "      <td>38500</td>\n",
       "      <td>1026470</td>\n",
       "      <td>332</td>\n",
       "      <td>121</td>\n",
       "      <td>3.0</td>\n",
       "      <td>2001</td>\n",
       "      <td>3486.0</td>\n",
       "      <td>High</td>\n",
       "      <td>2011-05-19</td>\n",
       "      <td>...</td>\n",
       "      <td>NaN</td>\n",
       "      <td>NaN</td>\n",
       "      <td>NaN</td>\n",
       "      <td>NaN</td>\n",
       "      <td>NaN</td>\n",
       "      <td>NaN</td>\n",
       "      <td>NaN</td>\n",
       "      <td>NaN</td>\n",
       "      <td>NaN</td>\n",
       "      <td>NaN</td>\n",
       "    </tr>\n",
       "    <tr>\n",
       "      <th>4</th>\n",
       "      <td>1139253</td>\n",
       "      <td>11000</td>\n",
       "      <td>1057373</td>\n",
       "      <td>17311</td>\n",
       "      <td>121</td>\n",
       "      <td>3.0</td>\n",
       "      <td>2007</td>\n",
       "      <td>722.0</td>\n",
       "      <td>Medium</td>\n",
       "      <td>2009-07-23</td>\n",
       "      <td>...</td>\n",
       "      <td>NaN</td>\n",
       "      <td>NaN</td>\n",
       "      <td>NaN</td>\n",
       "      <td>NaN</td>\n",
       "      <td>NaN</td>\n",
       "      <td>NaN</td>\n",
       "      <td>NaN</td>\n",
       "      <td>NaN</td>\n",
       "      <td>NaN</td>\n",
       "      <td>NaN</td>\n",
       "    </tr>\n",
       "  </tbody>\n",
       "</table>\n",
       "<p>5 rows × 53 columns</p>\n",
       "</div>"
      ],
      "text/plain": [
       "   SalesID  SalePrice  MachineID  ModelID  datasource  auctioneerID  YearMade  \\\n",
       "0  1139246      66000     999089     3157         121           3.0      2004   \n",
       "1  1139248      57000     117657       77         121           3.0      1996   \n",
       "2  1139249      10000     434808     7009         121           3.0      2001   \n",
       "3  1139251      38500    1026470      332         121           3.0      2001   \n",
       "4  1139253      11000    1057373    17311         121           3.0      2007   \n",
       "\n",
       "   MachineHoursCurrentMeter UsageBand   saledate  ... Undercarriage_Pad_Width  \\\n",
       "0                      68.0       Low 2006-11-16  ...                     NaN   \n",
       "1                    4640.0       Low 2004-03-26  ...                     NaN   \n",
       "2                    2838.0      High 2004-02-26  ...                     NaN   \n",
       "3                    3486.0      High 2011-05-19  ...                     NaN   \n",
       "4                     722.0    Medium 2009-07-23  ...                     NaN   \n",
       "\n",
       "  Stick_Length Thumb Pattern_Changer Grouser_Type Backhoe_Mounting Blade_Type  \\\n",
       "0          NaN   NaN             NaN          NaN              NaN        NaN   \n",
       "1          NaN   NaN             NaN          NaN              NaN        NaN   \n",
       "2          NaN   NaN             NaN          NaN              NaN        NaN   \n",
       "3          NaN   NaN             NaN          NaN              NaN        NaN   \n",
       "4          NaN   NaN             NaN          NaN              NaN        NaN   \n",
       "\n",
       "  Travel_Controls Differential_Type Steering_Controls  \n",
       "0             NaN          Standard      Conventional  \n",
       "1             NaN          Standard      Conventional  \n",
       "2             NaN               NaN               NaN  \n",
       "3             NaN               NaN               NaN  \n",
       "4             NaN               NaN               NaN  \n",
       "\n",
       "[5 rows x 53 columns]"
      ]
     },
     "execution_count": 2,
     "metadata": {},
     "output_type": "execute_result"
    }
   ],
   "source": [
    "PATH = \"/Users/mustafa/Desktop/bluebook-for-bulldozers/\"\n",
    "df = pd.read_csv(f'{PATH}Train.csv', low_memory = False, parse_dates = [\"saledate\"])\n",
    "df.head()"
   ]
  },
  {
   "cell_type": "code",
   "execution_count": 3,
   "id": "furnished-arabic",
   "metadata": {},
   "outputs": [],
   "source": [
    "df = df.sort_values(by=\"saledate\") #güncel verileri son sıraya aldık. \n",
    "# böylece günümüzdeki verileri daha iyi temsil edebilriz. Gerçek hayatı yansıtabiliriz."
   ]
  },
  {
   "cell_type": "markdown",
   "id": "assured-shepherd",
   "metadata": {},
   "source": [
    "### Kategorik Değişkenleri Sayısal Hale Getirmek"
   ]
  },
  {
   "cell_type": "code",
   "execution_count": 4,
   "id": "funky-place",
   "metadata": {},
   "outputs": [
    {
     "data": {
      "text/plain": [
       "205615    NaN\n",
       "92803     NaN\n",
       "98346     NaN\n",
       "169297    NaN\n",
       "274835    NaN\n",
       "         ... \n",
       "393123    NaN\n",
       "397987    NaN\n",
       "392664    NaN\n",
       "400458    NaN\n",
       "400217    NaN\n",
       "Name: UsageBand, Length: 401125, dtype: object"
      ]
     },
     "execution_count": 4,
     "metadata": {},
     "output_type": "execute_result"
    }
   ],
   "source": [
    "df[\"UsageBand\"]"
   ]
  },
  {
   "cell_type": "code",
   "execution_count": 5,
   "id": "short-equality",
   "metadata": {},
   "outputs": [
    {
     "name": "stdout",
     "output_type": "stream",
     "text": [
      "SalesID\n",
      "----------\n",
      "205615    1646770\n",
      "92803     1404019\n",
      "98346     1415646\n",
      "169297    1596358\n",
      "274835    1821514\n",
      "           ...   \n",
      "393123    6260878\n",
      "397987    6288376\n",
      "392664    6258093\n",
      "400458    6315563\n",
      "400217    6312170\n",
      "Name: SalesID, Length: 401125, dtype: int64\n"
     ]
    }
   ],
   "source": [
    "for n, c in df.items():\n",
    "    print(n)\n",
    "    print(\"-\"*10)\n",
    "    print(c)\n",
    "    break\n",
    "#column isimlerini ve değerlerini göstermek için yaptık. break koymasaydık bütün columnlarda yapacaktı. \n",
    "#ilk column da yaptı ve break dediğimiz için bitirdi."
   ]
  },
  {
   "cell_type": "code",
   "execution_count": 6,
   "id": "personal-lincoln",
   "metadata": {},
   "outputs": [],
   "source": [
    "#strin dtype olan columnları pandas category tipine çevirir. yani high medium low gibi string olarak ifade edilmişse\n",
    "#bunu category tipine çevir diyoruz.\n",
    "def train_categs(df):\n",
    "    for n, c in df.items():\n",
    "        if is_string_dtype(c):\n",
    "            df[n] = c.astype(\"category\").cat.as_ordered()"
   ]
  },
  {
   "cell_type": "code",
   "execution_count": 7,
   "id": "scenic-andrews",
   "metadata": {},
   "outputs": [],
   "source": [
    "# train set'e train_categs uygulandıktan sonra aynı category değişimleri olsun diye validation'a ve train'e bu uygulanır\n",
    "# zira trainde mesela high'a 2 dedik. validation'da buna 0 dersek, sorunlar ortaya çıkar.\n",
    "def apply_cats(df, train):\n",
    "    for n, c in df.items():\n",
    "        if train[n].dtype == \"category\":\n",
    "            df[n] = pd.Categorical(c, categories = train[n].cat.categories, ordered = True)\n",
    "#burada ne dedik? trainde bu kategorik veri tipinde ise, buradaki df'de bu column'u al, pandas kategorik olarak \n",
    "#kaydet. Ama categoriler olarak traindeki kategorileri al ki değişiklik olmasın. traindeki maping'i burada da uygula"
   ]
  },
  {
   "cell_type": "code",
   "execution_count": 8,
   "id": "emotional-technique",
   "metadata": {},
   "outputs": [],
   "source": [
    "train_categs(df)"
   ]
  },
  {
   "cell_type": "code",
   "execution_count": 9,
   "id": "latter-indie",
   "metadata": {},
   "outputs": [
    {
     "data": {
      "text/plain": [
       "205615    NaN\n",
       "92803     NaN\n",
       "98346     NaN\n",
       "169297    NaN\n",
       "274835    NaN\n",
       "         ... \n",
       "393123    NaN\n",
       "397987    NaN\n",
       "392664    NaN\n",
       "400458    NaN\n",
       "400217    NaN\n",
       "Name: UsageBand, Length: 401125, dtype: category\n",
       "Categories (3, object): ['High' < 'Low' < 'Medium']"
      ]
     },
     "execution_count": 9,
     "metadata": {},
     "output_type": "execute_result"
    }
   ],
   "source": [
    "df[\"UsageBand\"] \n",
    "#burada bakıyoruz ki bu dönüşümler gerçekleşmemiş ama arka planda gerçekleşti. buna da şöye erişiyoruz."
   ]
  },
  {
   "cell_type": "code",
   "execution_count": 10,
   "id": "offshore-offering",
   "metadata": {},
   "outputs": [
    {
     "data": {
      "text/plain": [
       "Index(['High', 'Low', 'Medium'], dtype='object')"
      ]
     },
     "execution_count": 10,
     "metadata": {},
     "output_type": "execute_result"
    }
   ],
   "source": [
    "df[\"UsageBand\"].cat.categories"
   ]
  },
  {
   "cell_type": "code",
   "execution_count": 11,
   "id": "ancient-briefing",
   "metadata": {},
   "outputs": [],
   "source": [
    "df[\"UsageBand\"].cat.set_categories([\"High\", \"Medium\", \"Low\"], ordered = True, inplace = True)\n",
    "# önceden high, low, medium olarak sıralanmıştı. burada bunu düzelttik."
   ]
  },
  {
   "cell_type": "code",
   "execution_count": 12,
   "id": "reasonable-secretariat",
   "metadata": {},
   "outputs": [
    {
     "data": {
      "text/plain": [
       "205615   -1\n",
       "92803    -1\n",
       "98346    -1\n",
       "169297   -1\n",
       "274835   -1\n",
       "         ..\n",
       "393123   -1\n",
       "397987   -1\n",
       "392664   -1\n",
       "400458   -1\n",
       "400217   -1\n",
       "Length: 401125, dtype: int8"
      ]
     },
     "execution_count": 12,
     "metadata": {},
     "output_type": "execute_result"
    }
   ],
   "source": [
    "df[\"UsageBand\"].cat.codes #burada dönüşmüş halini görebilriz. output'ta -1ler göreceğiz. bunlar da NaN değerler."
   ]
  },
  {
   "cell_type": "code",
   "execution_count": 13,
   "id": "traditional-hartford",
   "metadata": {},
   "outputs": [],
   "source": [
    "#bu -1'leri sıfır olarak görmek istersek, ya da değiştirmek istersek şöyle yapabiliriz: hepsini 1 yükseltebilriz. \n",
    "#böylece artık 0'lar NaN değerler, 1,2,3 ise high medium low.\n",
    "\n",
    "def numericalize(df, col, name):\n",
    "    if not is_numeric_dtype(col):\n",
    "        df[name] = col.cat.codes + 1"
   ]
  },
  {
   "cell_type": "code",
   "execution_count": 14,
   "id": "gentle-number",
   "metadata": {},
   "outputs": [],
   "source": [
    "numericalize(df, df[\"UsageBand\"], \"UsageBand\")"
   ]
  },
  {
   "cell_type": "code",
   "execution_count": 15,
   "id": "golden-pipeline",
   "metadata": {},
   "outputs": [
    {
     "data": {
      "text/plain": [
       "205615    0\n",
       "92803     0\n",
       "98346     0\n",
       "169297    0\n",
       "274835    0\n",
       "         ..\n",
       "393123    0\n",
       "397987    0\n",
       "392664    0\n",
       "400458    0\n",
       "400217    0\n",
       "Name: UsageBand, Length: 401125, dtype: int8"
      ]
     },
     "execution_count": 15,
     "metadata": {},
     "output_type": "execute_result"
    }
   ],
   "source": [
    "df[\"UsageBand\"]"
   ]
  },
  {
   "cell_type": "code",
   "execution_count": 16,
   "id": "enormous-shoulder",
   "metadata": {},
   "outputs": [],
   "source": [
    "#burada veride olan datetime'ı açıcaz. Hangi gün, hangi ay, hangi hafta vs. bunları column olarak eklemek istiyoruz.\n",
    "\n",
    "def add_datepart(df, dt_name, drop = True):\n",
    "    dt_column = df[dt_name]\n",
    "    column_dtype = dt_column.dtype\n",
    "    \n",
    "    attr = ['year', 'month', 'week', 'day', 'dayofweek', 'dayofyear', 'is_month_end', 'is_month_start', \n",
    "            'is_quarter_end', 'is_quarter_start', 'is_year_end', 'is_year_start']\n",
    "    \n",
    "    for a in attr:\n",
    "        df[\"Date\" + a.capitalize()] = getattr(dt_column.dt, a)\n",
    "        \n",
    "    df[\"Date\" + 'Elapsed'] = dt_column.astype(np.int64) // 10 ** 9\n",
    "    \n",
    "    #bunları ekledikten sonra, artık bu columns'u atıyor. \n",
    "    #zira bu columndan yeterince bilgi çıkarttık buna gerek kalmadı.\n",
    "    if drop:\n",
    "        df.drop(dt_name, axis = 1, inplace = True)"
   ]
  },
  {
   "cell_type": "code",
   "execution_count": 17,
   "id": "bibliographic-baptist",
   "metadata": {
    "collapsed": true
   },
   "outputs": [
    {
     "name": "stderr",
     "output_type": "stream",
     "text": [
      "/Users/mustafa/opt/anaconda3/lib/python3.7/site-packages/ipykernel_launcher.py:11: FutureWarning: Series.dt.weekofyear and Series.dt.week have been deprecated.  Please use Series.dt.isocalendar().week instead.\n",
      "  # This is added back by InteractiveShellApp.init_path()\n"
     ]
    }
   ],
   "source": [
    "add_datepart(df, \"saledate\")"
   ]
  },
  {
   "cell_type": "code",
   "execution_count": 18,
   "id": "sustained-hello",
   "metadata": {},
   "outputs": [
    {
     "data": {
      "text/html": [
       "<div>\n",
       "<style scoped>\n",
       "    .dataframe tbody tr th:only-of-type {\n",
       "        vertical-align: middle;\n",
       "    }\n",
       "\n",
       "    .dataframe tbody tr th {\n",
       "        vertical-align: top;\n",
       "    }\n",
       "\n",
       "    .dataframe thead th {\n",
       "        text-align: right;\n",
       "    }\n",
       "</style>\n",
       "<table border=\"1\" class=\"dataframe\">\n",
       "  <thead>\n",
       "    <tr style=\"text-align: right;\">\n",
       "      <th></th>\n",
       "      <th>SalesID</th>\n",
       "      <th>SalePrice</th>\n",
       "      <th>MachineID</th>\n",
       "      <th>ModelID</th>\n",
       "      <th>datasource</th>\n",
       "      <th>auctioneerID</th>\n",
       "      <th>YearMade</th>\n",
       "      <th>MachineHoursCurrentMeter</th>\n",
       "      <th>UsageBand</th>\n",
       "      <th>fiModelDesc</th>\n",
       "      <th>...</th>\n",
       "      <th>DateDay</th>\n",
       "      <th>DateDayofweek</th>\n",
       "      <th>DateDayofyear</th>\n",
       "      <th>DateIs_month_end</th>\n",
       "      <th>DateIs_month_start</th>\n",
       "      <th>DateIs_quarter_end</th>\n",
       "      <th>DateIs_quarter_start</th>\n",
       "      <th>DateIs_year_end</th>\n",
       "      <th>DateIs_year_start</th>\n",
       "      <th>DateElapsed</th>\n",
       "    </tr>\n",
       "  </thead>\n",
       "  <tbody>\n",
       "    <tr>\n",
       "      <th>205615</th>\n",
       "      <td>1646770</td>\n",
       "      <td>9500</td>\n",
       "      <td>1126363</td>\n",
       "      <td>8434</td>\n",
       "      <td>132</td>\n",
       "      <td>18.0</td>\n",
       "      <td>1974</td>\n",
       "      <td>NaN</td>\n",
       "      <td>0</td>\n",
       "      <td>TD20</td>\n",
       "      <td>...</td>\n",
       "      <td>17</td>\n",
       "      <td>1</td>\n",
       "      <td>17</td>\n",
       "      <td>False</td>\n",
       "      <td>False</td>\n",
       "      <td>False</td>\n",
       "      <td>False</td>\n",
       "      <td>False</td>\n",
       "      <td>False</td>\n",
       "      <td>600998400</td>\n",
       "    </tr>\n",
       "    <tr>\n",
       "      <th>92803</th>\n",
       "      <td>1404019</td>\n",
       "      <td>24000</td>\n",
       "      <td>1169900</td>\n",
       "      <td>7110</td>\n",
       "      <td>132</td>\n",
       "      <td>99.0</td>\n",
       "      <td>1986</td>\n",
       "      <td>NaN</td>\n",
       "      <td>0</td>\n",
       "      <td>416</td>\n",
       "      <td>...</td>\n",
       "      <td>31</td>\n",
       "      <td>1</td>\n",
       "      <td>31</td>\n",
       "      <td>True</td>\n",
       "      <td>False</td>\n",
       "      <td>False</td>\n",
       "      <td>False</td>\n",
       "      <td>False</td>\n",
       "      <td>False</td>\n",
       "      <td>602208000</td>\n",
       "    </tr>\n",
       "    <tr>\n",
       "      <th>98346</th>\n",
       "      <td>1415646</td>\n",
       "      <td>35000</td>\n",
       "      <td>1262088</td>\n",
       "      <td>3357</td>\n",
       "      <td>132</td>\n",
       "      <td>99.0</td>\n",
       "      <td>1975</td>\n",
       "      <td>NaN</td>\n",
       "      <td>0</td>\n",
       "      <td>12G</td>\n",
       "      <td>...</td>\n",
       "      <td>31</td>\n",
       "      <td>1</td>\n",
       "      <td>31</td>\n",
       "      <td>True</td>\n",
       "      <td>False</td>\n",
       "      <td>False</td>\n",
       "      <td>False</td>\n",
       "      <td>False</td>\n",
       "      <td>False</td>\n",
       "      <td>602208000</td>\n",
       "    </tr>\n",
       "    <tr>\n",
       "      <th>169297</th>\n",
       "      <td>1596358</td>\n",
       "      <td>19000</td>\n",
       "      <td>1433229</td>\n",
       "      <td>8247</td>\n",
       "      <td>132</td>\n",
       "      <td>99.0</td>\n",
       "      <td>1978</td>\n",
       "      <td>NaN</td>\n",
       "      <td>0</td>\n",
       "      <td>644</td>\n",
       "      <td>...</td>\n",
       "      <td>31</td>\n",
       "      <td>1</td>\n",
       "      <td>31</td>\n",
       "      <td>True</td>\n",
       "      <td>False</td>\n",
       "      <td>False</td>\n",
       "      <td>False</td>\n",
       "      <td>False</td>\n",
       "      <td>False</td>\n",
       "      <td>602208000</td>\n",
       "    </tr>\n",
       "    <tr>\n",
       "      <th>274835</th>\n",
       "      <td>1821514</td>\n",
       "      <td>14000</td>\n",
       "      <td>1194089</td>\n",
       "      <td>10150</td>\n",
       "      <td>132</td>\n",
       "      <td>99.0</td>\n",
       "      <td>1980</td>\n",
       "      <td>NaN</td>\n",
       "      <td>0</td>\n",
       "      <td>A66</td>\n",
       "      <td>...</td>\n",
       "      <td>31</td>\n",
       "      <td>1</td>\n",
       "      <td>31</td>\n",
       "      <td>True</td>\n",
       "      <td>False</td>\n",
       "      <td>False</td>\n",
       "      <td>False</td>\n",
       "      <td>False</td>\n",
       "      <td>False</td>\n",
       "      <td>602208000</td>\n",
       "    </tr>\n",
       "    <tr>\n",
       "      <th>...</th>\n",
       "      <td>...</td>\n",
       "      <td>...</td>\n",
       "      <td>...</td>\n",
       "      <td>...</td>\n",
       "      <td>...</td>\n",
       "      <td>...</td>\n",
       "      <td>...</td>\n",
       "      <td>...</td>\n",
       "      <td>...</td>\n",
       "      <td>...</td>\n",
       "      <td>...</td>\n",
       "      <td>...</td>\n",
       "      <td>...</td>\n",
       "      <td>...</td>\n",
       "      <td>...</td>\n",
       "      <td>...</td>\n",
       "      <td>...</td>\n",
       "      <td>...</td>\n",
       "      <td>...</td>\n",
       "      <td>...</td>\n",
       "      <td>...</td>\n",
       "    </tr>\n",
       "    <tr>\n",
       "      <th>393123</th>\n",
       "      <td>6260878</td>\n",
       "      <td>13500</td>\n",
       "      <td>1799594</td>\n",
       "      <td>4102</td>\n",
       "      <td>149</td>\n",
       "      <td>2.0</td>\n",
       "      <td>1000</td>\n",
       "      <td>NaN</td>\n",
       "      <td>0</td>\n",
       "      <td>D4C</td>\n",
       "      <td>...</td>\n",
       "      <td>30</td>\n",
       "      <td>4</td>\n",
       "      <td>364</td>\n",
       "      <td>False</td>\n",
       "      <td>False</td>\n",
       "      <td>False</td>\n",
       "      <td>False</td>\n",
       "      <td>False</td>\n",
       "      <td>False</td>\n",
       "      <td>1325203200</td>\n",
       "    </tr>\n",
       "    <tr>\n",
       "      <th>397987</th>\n",
       "      <td>6288376</td>\n",
       "      <td>9750</td>\n",
       "      <td>1872596</td>\n",
       "      <td>4875</td>\n",
       "      <td>149</td>\n",
       "      <td>2.0</td>\n",
       "      <td>1000</td>\n",
       "      <td>NaN</td>\n",
       "      <td>0</td>\n",
       "      <td>520C</td>\n",
       "      <td>...</td>\n",
       "      <td>30</td>\n",
       "      <td>4</td>\n",
       "      <td>364</td>\n",
       "      <td>False</td>\n",
       "      <td>False</td>\n",
       "      <td>False</td>\n",
       "      <td>False</td>\n",
       "      <td>False</td>\n",
       "      <td>False</td>\n",
       "      <td>1325203200</td>\n",
       "    </tr>\n",
       "    <tr>\n",
       "      <th>392664</th>\n",
       "      <td>6258093</td>\n",
       "      <td>14500</td>\n",
       "      <td>1877553</td>\n",
       "      <td>3170</td>\n",
       "      <td>149</td>\n",
       "      <td>2.0</td>\n",
       "      <td>1988</td>\n",
       "      <td>NaN</td>\n",
       "      <td>0</td>\n",
       "      <td>580K</td>\n",
       "      <td>...</td>\n",
       "      <td>30</td>\n",
       "      <td>4</td>\n",
       "      <td>364</td>\n",
       "      <td>False</td>\n",
       "      <td>False</td>\n",
       "      <td>False</td>\n",
       "      <td>False</td>\n",
       "      <td>False</td>\n",
       "      <td>False</td>\n",
       "      <td>1325203200</td>\n",
       "    </tr>\n",
       "    <tr>\n",
       "      <th>400458</th>\n",
       "      <td>6315563</td>\n",
       "      <td>12500</td>\n",
       "      <td>1869637</td>\n",
       "      <td>26456</td>\n",
       "      <td>149</td>\n",
       "      <td>2.0</td>\n",
       "      <td>2010</td>\n",
       "      <td>NaN</td>\n",
       "      <td>0</td>\n",
       "      <td>L160</td>\n",
       "      <td>...</td>\n",
       "      <td>30</td>\n",
       "      <td>4</td>\n",
       "      <td>364</td>\n",
       "      <td>False</td>\n",
       "      <td>False</td>\n",
       "      <td>False</td>\n",
       "      <td>False</td>\n",
       "      <td>False</td>\n",
       "      <td>False</td>\n",
       "      <td>1325203200</td>\n",
       "    </tr>\n",
       "    <tr>\n",
       "      <th>400217</th>\n",
       "      <td>6312170</td>\n",
       "      <td>11000</td>\n",
       "      <td>1812622</td>\n",
       "      <td>9580</td>\n",
       "      <td>149</td>\n",
       "      <td>2.0</td>\n",
       "      <td>2005</td>\n",
       "      <td>NaN</td>\n",
       "      <td>0</td>\n",
       "      <td>T190</td>\n",
       "      <td>...</td>\n",
       "      <td>30</td>\n",
       "      <td>4</td>\n",
       "      <td>364</td>\n",
       "      <td>False</td>\n",
       "      <td>False</td>\n",
       "      <td>False</td>\n",
       "      <td>False</td>\n",
       "      <td>False</td>\n",
       "      <td>False</td>\n",
       "      <td>1325203200</td>\n",
       "    </tr>\n",
       "  </tbody>\n",
       "</table>\n",
       "<p>401125 rows × 65 columns</p>\n",
       "</div>"
      ],
      "text/plain": [
       "        SalesID  SalePrice  MachineID  ModelID  datasource  auctioneerID  \\\n",
       "205615  1646770       9500    1126363     8434         132          18.0   \n",
       "92803   1404019      24000    1169900     7110         132          99.0   \n",
       "98346   1415646      35000    1262088     3357         132          99.0   \n",
       "169297  1596358      19000    1433229     8247         132          99.0   \n",
       "274835  1821514      14000    1194089    10150         132          99.0   \n",
       "...         ...        ...        ...      ...         ...           ...   \n",
       "393123  6260878      13500    1799594     4102         149           2.0   \n",
       "397987  6288376       9750    1872596     4875         149           2.0   \n",
       "392664  6258093      14500    1877553     3170         149           2.0   \n",
       "400458  6315563      12500    1869637    26456         149           2.0   \n",
       "400217  6312170      11000    1812622     9580         149           2.0   \n",
       "\n",
       "        YearMade  MachineHoursCurrentMeter  UsageBand fiModelDesc  ...  \\\n",
       "205615      1974                       NaN          0        TD20  ...   \n",
       "92803       1986                       NaN          0         416  ...   \n",
       "98346       1975                       NaN          0         12G  ...   \n",
       "169297      1978                       NaN          0         644  ...   \n",
       "274835      1980                       NaN          0         A66  ...   \n",
       "...          ...                       ...        ...         ...  ...   \n",
       "393123      1000                       NaN          0         D4C  ...   \n",
       "397987      1000                       NaN          0        520C  ...   \n",
       "392664      1988                       NaN          0        580K  ...   \n",
       "400458      2010                       NaN          0        L160  ...   \n",
       "400217      2005                       NaN          0        T190  ...   \n",
       "\n",
       "       DateDay DateDayofweek DateDayofyear DateIs_month_end  \\\n",
       "205615      17             1            17            False   \n",
       "92803       31             1            31             True   \n",
       "98346       31             1            31             True   \n",
       "169297      31             1            31             True   \n",
       "274835      31             1            31             True   \n",
       "...        ...           ...           ...              ...   \n",
       "393123      30             4           364            False   \n",
       "397987      30             4           364            False   \n",
       "392664      30             4           364            False   \n",
       "400458      30             4           364            False   \n",
       "400217      30             4           364            False   \n",
       "\n",
       "       DateIs_month_start DateIs_quarter_end DateIs_quarter_start  \\\n",
       "205615              False              False                False   \n",
       "92803               False              False                False   \n",
       "98346               False              False                False   \n",
       "169297              False              False                False   \n",
       "274835              False              False                False   \n",
       "...                   ...                ...                  ...   \n",
       "393123              False              False                False   \n",
       "397987              False              False                False   \n",
       "392664              False              False                False   \n",
       "400458              False              False                False   \n",
       "400217              False              False                False   \n",
       "\n",
       "       DateIs_year_end DateIs_year_start DateElapsed  \n",
       "205615           False             False   600998400  \n",
       "92803            False             False   602208000  \n",
       "98346            False             False   602208000  \n",
       "169297           False             False   602208000  \n",
       "274835           False             False   602208000  \n",
       "...                ...               ...         ...  \n",
       "393123           False             False  1325203200  \n",
       "397987           False             False  1325203200  \n",
       "392664           False             False  1325203200  \n",
       "400458           False             False  1325203200  \n",
       "400217           False             False  1325203200  \n",
       "\n",
       "[401125 rows x 65 columns]"
      ]
     },
     "execution_count": 18,
     "metadata": {},
     "output_type": "execute_result"
    }
   ],
   "source": [
    "df #sonuçta datetime objesini numerik hale dönüştürmüş olduk."
   ]
  },
  {
   "cell_type": "markdown",
   "id": "junior-mineral",
   "metadata": {},
   "source": [
    "#### Missing Value"
   ]
  },
  {
   "cell_type": "code",
   "execution_count": 19,
   "id": "stable-police",
   "metadata": {},
   "outputs": [],
   "source": [
    "def fix_missing(df, col, name):\n",
    "    if is_numeric_dtype(col):\n",
    "        if pd.isnull(col).sum:\n",
    "            df[name+\"_null\"] = pd.isnull(col)\n",
    "        df[name] = col.fillna(col.median())\n",
    "#bu fonksiyon, boş değeri olan bir column varsa, bu column'u alıp, name_null şeklinde yeni bir column oluşturuyor.\n",
    "#true false şeklinde dolduruyor. daha sonra dönüşüm yaptığı columndaki missing valueları median ile dolduruyor.\n",
    "#hem missing value sorununu çözüyoruz, hem de önceden missing value oldğunu unutmuyoruz. Bilgi kaybı olmadı."
   ]
  },
  {
   "cell_type": "code",
   "execution_count": 20,
   "id": "viral-biotechnology",
   "metadata": {},
   "outputs": [
    {
     "name": "stdout",
     "output_type": "stream",
     "text": [
      "auctioneerID\n",
      "MachineHoursCurrentMeter\n"
     ]
    }
   ],
   "source": [
    "for n,c in df.items():\n",
    "    if is_numeric_dtype(c):\n",
    "        if df[n].isnull().sum():\n",
    "            print(n)\n",
    "#burada dönen columnlar, içinde hem numerik değer olup hem de missing value'ları olan columnlar."
   ]
  },
  {
   "cell_type": "code",
   "execution_count": 21,
   "id": "after-latin",
   "metadata": {},
   "outputs": [
    {
     "data": {
      "text/plain": [
       "258360"
      ]
     },
     "execution_count": 21,
     "metadata": {},
     "output_type": "execute_result"
    }
   ],
   "source": [
    "df[\"MachineHoursCurrentMeter\"].isnull().sum() #bu kadar missing value var."
   ]
  },
  {
   "cell_type": "code",
   "execution_count": 22,
   "id": "exposed-textbook",
   "metadata": {},
   "outputs": [],
   "source": [
    "fix_missing(df,df[\"MachineHoursCurrentMeter\"], \"MachineHoursCurrentMeter\")"
   ]
  },
  {
   "cell_type": "code",
   "execution_count": 23,
   "id": "previous-register",
   "metadata": {},
   "outputs": [
    {
     "data": {
      "text/plain": [
       "0"
      ]
     },
     "execution_count": 23,
     "metadata": {},
     "output_type": "execute_result"
    }
   ],
   "source": [
    "df[\"MachineHoursCurrentMeter\"].isnull().sum() #artık missing value kalmadı."
   ]
  },
  {
   "cell_type": "code",
   "execution_count": 24,
   "id": "level-fabric",
   "metadata": {},
   "outputs": [
    {
     "data": {
      "text/plain": [
       "205615    True\n",
       "92803     True\n",
       "98346     True\n",
       "169297    True\n",
       "274835    True\n",
       "          ... \n",
       "393123    True\n",
       "397987    True\n",
       "392664    True\n",
       "400458    True\n",
       "400217    True\n",
       "Name: MachineHoursCurrentMeter_null, Length: 401125, dtype: bool"
      ]
     },
     "execution_count": 24,
     "metadata": {},
     "output_type": "execute_result"
    }
   ],
   "source": [
    "df[\"MachineHoursCurrentMeter_null\"] #yeni oluşturduğumuz column bu şekilde. böylece hem missing valueları unutmadık,\n",
    "# hem de missing valueları doldurduk."
   ]
  },
  {
   "cell_type": "code",
   "execution_count": 25,
   "id": "included-hindu",
   "metadata": {},
   "outputs": [],
   "source": [
    "#bu fonksşyona bi df vericez, bir de y_column'u yani tahminlerimiz. önce onu atıp ayrı bir formda tutuyoruz. zira\n",
    "# tahmin edeceğimiz şeyi girdi olarak girmemesi lazım. zira onun katsayısını 1 yapar ve diğerlerine önem vermez.\n",
    "def proc_df(df, y_fld):\n",
    "    \n",
    "    y= df[y_fld].values\n",
    "    df.drop([y_fld], axis = 1, inplace = True)\n",
    "    \n",
    "    for n, c in df.items():\n",
    "        fix_missing(df, c, n)\n",
    "        numericalize(df, c, n)\n",
    "        \n",
    "    return df, y\n",
    "\n",
    "#burada bir hata ile karşılaşabiliriz. nedir bu? train verisetinde missing value olunca mesela x1_null şeklinde bir\n",
    "# column oluşacak. ama validation setinde bu column yok. hata verecek. ya da tam tersi train setinde böyle bir null değer yok \n",
    "# column oluşmayacak ama validation setinde null değer olacak ve x1_null columnu oluşacak. bunu çözmemiz lazım. Nasıl?\n",
    "# train setinde neleri değiştirdiysek, nelere x1_null eklediysek, bir dictionaryde tutacağız. Ve onun değiştirdim\n",
    "# değerlerini tutacağız. mesela train setinde x1'in median'ı 50 imiş ve missing valuelar varmış. Diyeceğim ki train setinde x1'i\n",
    "# null olarak aldım, validation setinde de kesin alman lazım. Eğer boş yerler varsa da bunları 50 ile doldur. Neden train seti \n",
    "# medianı kullanıyoruz? Zaten bu veriyi sentetik olarak ekliyoruz. Olabildiğince mantıklı ve iyi olması için uğraşacağız.\n",
    "# bu yüzden train setinde median'a göre bir mantık kurduk. eğer validation setinde başka değer verirsem, bunu farklı bir mantık olarak\n",
    "# algılayabilir."
   ]
  },
  {
   "cell_type": "code",
   "execution_count": 26,
   "id": "designed-pickup",
   "metadata": {},
   "outputs": [],
   "source": [
    "def fix_missing(df, col, name, nan_dict, is_train):\n",
    "    \n",
    "    if is_train:\n",
    "        if is_numeric_dtype(col):\n",
    "            if pd.isnull(col).sum():\n",
    "                df[name+\"_null\"] = pd.isnull(col)\n",
    "                nan_dict[name] = col.median()\n",
    "                df[name] = col.fillna(col.median())\n",
    "                \n",
    "    else:\n",
    "        if is_numeric_dtype(col):\n",
    "            if name in nan_dict:\n",
    "                df[name+\"_null\"] = pd.isnull(col)\n",
    "                df[name] = col.fillna(nan_dict[name])\n",
    "            else:\n",
    "                df[name] = col.fillna(df[name].median())"
   ]
  },
  {
   "cell_type": "code",
   "execution_count": 27,
   "id": "optional-ghana",
   "metadata": {},
   "outputs": [],
   "source": [
    "def proc_df(df, y_fld, nan_dict = None, is_train = True):\n",
    "    \n",
    "    df = df.copy()\n",
    "    y= df[y_fld].values\n",
    "    \n",
    "    df.drop([y_fld], axis = 1, inplace = True)\n",
    "    \n",
    "    if nan_dict is None:\n",
    "        nan_dict = {}\n",
    "    \n",
    "    \n",
    "    for n, c in df.items():\n",
    "        fix_missing(df, c, n, nan_dict, is_train)\n",
    "        numericalize(df, c, n)\n",
    "        \n",
    "    if is_train:\n",
    "        return df, y, nan_dict\n",
    "        \n",
    "    return df, y"
   ]
  },
  {
   "cell_type": "code",
   "execution_count": 28,
   "id": "processed-preference",
   "metadata": {},
   "outputs": [],
   "source": [
    "#we will have codes starting from 0 (for missing)\n",
    "def numericalize(df, col, name):\n",
    "    if not is_numeric_dtype(col):\n",
    "        df[name] = col.cat.codes + 1"
   ]
  },
  {
   "cell_type": "code",
   "execution_count": 29,
   "id": "hearing-mirror",
   "metadata": {},
   "outputs": [],
   "source": [
    "def split_train_val(df, n):\n",
    "    #train i train ve validation olarak bölüyoruz\n",
    "    return df[:n].copy(), df[n:].copy()"
   ]
  },
  {
   "cell_type": "code",
   "execution_count": 30,
   "id": "alike-documentation",
   "metadata": {},
   "outputs": [],
   "source": [
    "n_valid = 12000 #same as Kaggle's test set size\n",
    "n_train = len(df)-n_valid #en güncelleri validasyon alıyoruz. gerçek hayata en yakınlar validasyon.\n",
    "raw_train, raw_valid = split_train_val(df, n_train)"
   ]
  },
  {
   "cell_type": "code",
   "execution_count": 31,
   "id": "hybrid-swing",
   "metadata": {},
   "outputs": [],
   "source": [
    "x_train, y_train, nas = proc_df(raw_train, 'SalePrice')"
   ]
  },
  {
   "cell_type": "code",
   "execution_count": 32,
   "id": "streaming-present",
   "metadata": {},
   "outputs": [],
   "source": [
    "x_valid, y_valid = proc_df(raw_valid, 'SalePrice', nan_dict = nas, is_train = False)"
   ]
  },
  {
   "cell_type": "markdown",
   "id": "selective-image",
   "metadata": {},
   "source": [
    "### Model"
   ]
  },
  {
   "cell_type": "code",
   "execution_count": 33,
   "id": "strong-version",
   "metadata": {},
   "outputs": [
    {
     "data": {
      "text/plain": [
       "1.0"
      ]
     },
     "execution_count": 33,
     "metadata": {},
     "output_type": "execute_result"
    }
   ],
   "source": [
    "m = RandomForestRegressor(n_estimators = 1, bootstrap = False, n_jobs = -1) # model iskeletini burada söylüyorum.\n",
    "#ben senden böyle birşey istiyorum diyorum. ondan sonra verimi veriyorum. Yani sen bu iskeletle benim verimi öğren.\n",
    "m.fit(x_train, y_train) #burada eğit diyoruz. ve artık veri eğitilmiş oluyor.\n",
    "m.score(x_train, y_train) #fit olduktan sonra default olarak r^2'i hesaplayacak. bakalım ne kadar başarılı?\n",
    "#yani bir üstte ne diyor? x_trainden bir y tahmin ettim, ve gerçek y ler var bunları karşılaştırıp başarı oranına bakar\n",
    "\n",
    "# n_estimators, kaç ağaç kullanacağız onu söylüyor, bootstrap sampling default olarak true. \n",
    "# bootstrap kullanak mıyız onu belirtiyor. n_jobs kaç çekirdek kullanıcaz bu işlem için onu \n",
    "# belirtiyor. -1 ile hepsini kullan diyoruz. model hızı ile alakalı."
   ]
  },
  {
   "cell_type": "markdown",
   "id": "threaded-source",
   "metadata": {},
   "source": [
    "* burada 1 çıkması belirleyici bir parametre değil. Zira bu sadece train setinde olan. Validasyonda test etmem lazım. zira traindeki overfit oluyo olabilir. arka planda veriyi ezberliyo olabilir. bunu test etmek için validasyonda bakmmam lazım."
   ]
  },
  {
   "cell_type": "code",
   "execution_count": 41,
   "id": "touched-skill",
   "metadata": {},
   "outputs": [],
   "source": [
    "def rmse(x,y):\n",
    "    return math.sqrt(((x-y)**2).mean())"
   ]
  },
  {
   "cell_type": "code",
   "execution_count": 42,
   "id": "silent-endorsement",
   "metadata": {},
   "outputs": [],
   "source": [
    "def print_score(m):\n",
    "    print(f\"RMSE of train set: {rmse(m.predict(x_train),y_train)}\")\n",
    "    print(f\"RMSE of validation set: {rmse(m.predict(x_valid),y_valid)}\")\n",
    "    print(f\"R^2 of train set: {m.score(x_train, y_train)}\")\n",
    "    print(f\"R^2 of validation set: {m.score(x_valid, y_valid)}\")"
   ]
  },
  {
   "cell_type": "code",
   "execution_count": 43,
   "id": "pending-entry",
   "metadata": {},
   "outputs": [
    {
     "name": "stdout",
     "output_type": "stream",
     "text": [
      "RMSE of train set: 0.0\n",
      "RMSE of validation set: 13189.668767242918\n",
      "R^2 of train set: 1.0\n",
      "R^2 of validation set: 0.7289025484253335\n"
     ]
    }
   ],
   "source": [
    "print_score(m)"
   ]
  },
  {
   "cell_type": "markdown",
   "id": "daily-science",
   "metadata": {},
   "source": [
    "* neden değişik çıktı r^2? validation'da biz sorguyu durdurmuyoruz. mesela 1000 tane veri var, en sonda 1000 tane farklı veriseti oluştu sora sora, dallara ayrıla ayrıla. En sonunda her birinde 1 tane veri var. 1000 veri setinin her birinde 1 tane veri var. Çok spesifiğe inebildi. Artık sorular tek bir veriyi ifade edbilecek şekilde sorular en aşağıya kadar indi. böyle olduğu için r^2=1 oldu trainde. validasyonda ise, trainde ezberlediği için sorular spesifik olduğu için hatalar oldu. \n",
    "* overfitting'i şöyle engelleyebiliriz: 1- soru sayısını azaltabiliriz. yani bir yerde kesilir random forest. bu yüzden her veri için spesifik sorular sorulmaz. 2- birden fazla ağaç eğitiriz. bu ağaçlar verinin farklı yerlerini görse ve bunların öğrendiklerinin ortalamasını alalım. öğrendikleriini birleştirsek ve yani bir mantığa gidelim. böylece hiç ağaç veriyi ezberlemez."
   ]
  },
  {
   "cell_type": "code",
   "execution_count": 44,
   "id": "identical-cliff",
   "metadata": {},
   "outputs": [],
   "source": [
    "def get_sample(df, n):\n",
    "    idxs = np.random.permutation(len(df))[:n]\n",
    "    return idxs, df.iloc[idxs].copy()"
   ]
  },
  {
   "cell_type": "markdown",
   "id": "horizontal-player",
   "metadata": {},
   "source": [
    "* Validation seti değiştirmek istemiyorum, sadece train içinde subset alacağım.\n",
    "\n",
    "* 1 milyon verim var diyelim. hepsini kullanıp, birçok model denesem, saatler sürer. bu yüzden subsample alacağım. Model seçerken subsample alacağım ama model kurarken tüm verimi kullanacağım. Ama subsample'ı neye göre seçeceğim?\n",
    "\n",
    "* 1 milyon içinden 100k subsample alacağım mesela. model-1'de R^2=0.62, model-2'de R^2=0.67, model-3'de R^2=0.63 çıktı. Az çıkması burada önemli değil. Önemli olan, diğerlerine göre model-2 daha iyi sonuç verdi. Ben bu modeli tüm veride kullandığımda da yine diğerlerine göre yüksek R^2 verecek demek.\n",
    "\n",
    "* Önemli olan subsample'ın, tüm veri karakteristiğini iyi temsil etmesi. bu ne demek? mesela 1m içinden 100k seçtik, R^2 modelde 0.62 çıktı. Başka 100k seçtik, burada da 0.45 çıktı. Başka 100k'da 0.32 çıktı. bir tutarsızlık var. Yani subsample'lar verinin farklı farklı yerlerini görüyor ve veriseti düzgün temsil edemiyor.\n",
    "\n",
    "* 200k olarak alınsa R^2: 0.62, 0.65 vs. çıkmaya başladı. Daha tutarlı sayılar almaya başladık. Yani bu sample sayısı veriyi iyi ifade edebiliyor. Zira tutarlı R^2'ler alıyoruz.\n",
    "\n",
    "* Burada subsample seçip (3000 seçmiştik. Bakıyoruz ki bu sayı yeterliymiş), hangi model iyi ona bakıyoruz. Sonra tüm veride bu modeli kullanıyoruz. Aşağıda iki model denendi. biri 10 ağaçlı, diğeri 30 ağaçlı. 30 ağaçlı olan daha iyi sonuç veriyor. Yani tüm veride de 30 ağaçlı iyi sonuç verecek demek."
   ]
  },
  {
   "cell_type": "code",
   "execution_count": 45,
   "id": "enabling-mixer",
   "metadata": {},
   "outputs": [],
   "source": [
    "idxs, x_train = get_sample(x_train, 3000)\n",
    "y_train = y_train[idxs]"
   ]
  },
  {
   "cell_type": "code",
   "execution_count": 46,
   "id": "impressed-developer",
   "metadata": {},
   "outputs": [
    {
     "name": "stdout",
     "output_type": "stream",
     "text": [
      "CPU times: user 535 ms, sys: 11.4 ms, total: 546 ms\n",
      "Wall time: 337 ms\n",
      "RMSE of train set: 5173.714106769268\n",
      "RMSE of validation set: 14004.459877403788\n",
      "R^2 of train set: 0.9522062191614833\n",
      "R^2 of validation set: 0.694373939163849\n"
     ]
    }
   ],
   "source": [
    "m = RandomForestRegressor(n_estimators = 10, n_jobs = -1)\n",
    "%time m.fit(x_train, y_train)\n",
    "print_score(m)"
   ]
  },
  {
   "cell_type": "code",
   "execution_count": 47,
   "id": "satisfied-festival",
   "metadata": {},
   "outputs": [
    {
     "name": "stdout",
     "output_type": "stream",
     "text": [
      "CPU times: user 1.62 s, sys: 19.9 ms, total: 1.64 s\n",
      "Wall time: 671 ms\n",
      "RMSE of train set: 4355.1620226356\n",
      "RMSE of validation set: 12882.54537917479\n",
      "R^2 of train set: 0.9661331216504893\n",
      "R^2 of validation set: 0.7413806484120291\n"
     ]
    }
   ],
   "source": [
    "m = RandomForestRegressor(n_estimators = 30, n_jobs = -1)\n",
    "%time m.fit(x_train, y_train)\n",
    "print_score(m)"
   ]
  },
  {
   "cell_type": "markdown",
   "id": "valued-legislation",
   "metadata": {},
   "source": [
    "### Tüm Veri İle"
   ]
  },
  {
   "cell_type": "code",
   "execution_count": 49,
   "id": "brutal-bradford",
   "metadata": {},
   "outputs": [],
   "source": [
    "x_train, y_train, nas = proc_df(raw_train, 'SalePrice')"
   ]
  },
  {
   "cell_type": "code",
   "execution_count": 50,
   "id": "organic-conducting",
   "metadata": {},
   "outputs": [],
   "source": [
    "x_valid, y_valid = proc_df(raw_valid, 'SalePrice', nan_dict = nas, is_train = False)"
   ]
  },
  {
   "cell_type": "code",
   "execution_count": 51,
   "id": "spiritual-picking",
   "metadata": {},
   "outputs": [
    {
     "name": "stdout",
     "output_type": "stream",
     "text": [
      "CPU times: user 2min 8s, sys: 1.73 s, total: 2min 10s\n",
      "Wall time: 59.2 s\n",
      "RMSE of train set: 3025.1676376188007\n",
      "RMSE of validation set: 9632.14544068982\n",
      "R^2 of train set: 0.9826335942383905\n",
      "R^2 of validation set: 0.8554214982805716\n"
     ]
    }
   ],
   "source": [
    "m = RandomForestRegressor(n_estimators = 10, n_jobs = -1)\n",
    "%time m.fit(x_train, y_train)\n",
    "print_score(m)"
   ]
  },
  {
   "cell_type": "code",
   "execution_count": 52,
   "id": "funny-bahrain",
   "metadata": {},
   "outputs": [
    {
     "name": "stdout",
     "output_type": "stream",
     "text": [
      "CPU times: user 6min 32s, sys: 3.25 s, total: 6min 35s\n",
      "Wall time: 2min 17s\n",
      "RMSE of train set: 2679.282389992527\n",
      "RMSE of validation set: 9036.941690656698\n",
      "R^2 of train set: 0.9863777755534994\n",
      "R^2 of validation set: 0.8727374512669335\n"
     ]
    }
   ],
   "source": [
    "m = RandomForestRegressor(n_estimators = 30, n_jobs = -1)\n",
    "%time m.fit(x_train, y_train)\n",
    "print_score(m)"
   ]
  },
  {
   "cell_type": "code",
   "execution_count": null,
   "id": "ongoing-chart",
   "metadata": {},
   "outputs": [],
   "source": []
  }
 ],
 "metadata": {
  "kernelspec": {
   "display_name": "Python 3",
   "language": "python",
   "name": "python3"
  },
  "language_info": {
   "codemirror_mode": {
    "name": "ipython",
    "version": 3
   },
   "file_extension": ".py",
   "mimetype": "text/x-python",
   "name": "python",
   "nbconvert_exporter": "python",
   "pygments_lexer": "ipython3",
   "version": "3.7.4"
  }
 },
 "nbformat": 4,
 "nbformat_minor": 5
}
